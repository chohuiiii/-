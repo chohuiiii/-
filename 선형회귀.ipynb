{
  "nbformat": 4,
  "nbformat_minor": 0,
  "metadata": {
    "colab": {
      "provenance": [],
      "authorship_tag": "ABX9TyPRdfkTF0MxnSTGqOVULO/z",
      "include_colab_link": true
    },
    "kernelspec": {
      "name": "python3",
      "display_name": "Python 3"
    },
    "language_info": {
      "name": "python"
    }
  },
  "cells": [
    {
      "cell_type": "markdown",
      "metadata": {
        "id": "view-in-github",
        "colab_type": "text"
      },
      "source": [
        "<a href=\"https://colab.research.google.com/github/chohuiiii/-/blob/main/%EC%84%A0%ED%98%95%ED%9A%8C%EA%B7%80.ipynb\" target=\"_parent\"><img src=\"https://colab.research.google.com/assets/colab-badge.svg\" alt=\"Open In Colab\"/></a>"
      ]
    },
    {
      "cell_type": "code",
      "execution_count": 1,
      "metadata": {
        "colab": {
          "base_uri": "https://localhost:8080/",
          "height": 631
        },
        "id": "-CTjlbnkMxrk",
        "outputId": "a8a2ca0b-7667-4c21-a9e6-38419593aa11"
      },
      "outputs": [
        {
          "output_type": "stream",
          "name": "stdout",
          "text": [
            "It looks like you are running Gradio on a hosted a Jupyter notebook. For the Gradio app to work, sharing must be enabled. Automatically setting `share=True` (you can turn this off by setting `share=False` in `launch()` explicitly).\n",
            "\n",
            "Colab notebook detected. To show errors in colab notebook, set debug=True in launch()\n",
            "* Running on public URL: https://723bc6a3b3f7ab4190.gradio.live\n",
            "\n",
            "This share link expires in 1 week. For free permanent hosting and GPU upgrades, run `gradio deploy` from the terminal in the working directory to deploy to Hugging Face Spaces (https://huggingface.co/spaces)\n"
          ]
        },
        {
          "output_type": "display_data",
          "data": {
            "text/plain": [
              "<IPython.core.display.HTML object>"
            ],
            "text/html": [
              "<div><iframe src=\"https://723bc6a3b3f7ab4190.gradio.live\" width=\"100%\" height=\"500\" allow=\"autoplay; camera; microphone; clipboard-read; clipboard-write;\" frameborder=\"0\" allowfullscreen></iframe></div>"
            ]
          },
          "metadata": {}
        },
        {
          "output_type": "execute_result",
          "data": {
            "text/plain": []
          },
          "metadata": {},
          "execution_count": 1
        }
      ],
      "source": [
        "!pip install gradio matplotlib -q\n",
        "\n",
        "import gradio as gr\n",
        "import matplotlib.pyplot as plt\n",
        "\n",
        "# 등급 기준 데이터\n",
        "grade_data = {\n",
        "    '국어':   {1: 800, 2: 650, 3: 500, 4: 400, 5: 300, 6: 200, 7: 120, 8: 80, 9: 40},\n",
        "    '수학':   {1: 900, 2: 750, 3: 600, 4: 480, 5: 360, 6: 250, 7: 150, 8: 90, 9: 50},\n",
        "    '영어':   {1: 700, 2: 600, 3: 450, 4: 350, 5: 270, 6: 180, 7: 120, 8: 70, 9: 30},\n",
        "    '탐구':   {1: 600, 2: 500, 3: 400, 4: 320, 5: 240, 6: 160, 7: 100, 8: 60, 9: 30}\n",
        "}\n",
        "\n",
        "# 신뢰도 계산\n",
        "def calculate_confidence(solved, required):\n",
        "    ratio = solved / required if required > 0 else 0\n",
        "    if ratio >= 1.2: return 95\n",
        "    if ratio >= 1.0: return 85\n",
        "    if ratio >= 0.8: return 70\n",
        "    if ratio >= 0.6: return 55\n",
        "    return 40\n",
        "\n",
        "# 조언\n",
        "def get_recommendation(grade):\n",
        "    if grade <= 2: return \"우수합니다! 현재 페이스를 유지하며 심화 문제에 도전해보세요.\"\n",
        "    if grade <= 4: return \"좋은 성과입니다. 취약한 단원을 집중 보완하세요.\"\n",
        "    if grade <= 6: return \"더 많은 문제 풀이가 필요합니다. 기본기를 다져보세요.\"\n",
        "    return \"꾸준한 노력이 필요합니다. 기초부터 차근차근 다져나가세요.\"\n",
        "\n",
        "# 그래프 그리기\n",
        "def draw_chart(subject):\n",
        "    data = grade_data[subject]\n",
        "    grades = list(data.keys())\n",
        "    values = list(data.values())\n",
        "\n",
        "    fig, ax = plt.subplots()\n",
        "    bars = ax.bar([f\"{g}등급\" for g in grades], values, color='skyblue')\n",
        "    ax.set_title(f\"{subject} 등급별 권장 문제 수\")\n",
        "    ax.set_ylabel(\"문제 수\")\n",
        "    ax.set_ylim(0, max(values) + 100)\n",
        "    for bar, val in zip(bars, values):\n",
        "        ax.text(bar.get_x() + bar.get_width()/2, val + 10, f'{val}', ha='center', fontsize=8)\n",
        "    plt.xticks(rotation=45)\n",
        "    return fig\n",
        "\n",
        "# 메인 예측 함수\n",
        "def predict(subject, problems_solved):\n",
        "    data = grade_data[subject]\n",
        "    predicted_grade = 9\n",
        "    for grade in range(1, 10):\n",
        "        if problems_solved >= data[grade]:\n",
        "            predicted_grade = grade\n",
        "            break\n",
        "\n",
        "    confidence = calculate_confidence(problems_solved, data[predicted_grade])\n",
        "    recommendation = get_recommendation(predicted_grade)\n",
        "    chart = draw_chart(subject)\n",
        "\n",
        "    result = f\"📚 선택 과목: {subject}\\n\" \\\n",
        "             f\"✅ 예측 등급: {predicted_grade}등급\\n\" \\\n",
        "             f\"📈 신뢰도: {confidence}%\\n\\n\" \\\n",
        "             f\"💡 학습 조언:\\n{recommendation}\"\n",
        "    return result, chart\n",
        "\n",
        "# Gradio 인터페이스 설정\n",
        "subject_input = gr.Dropdown(choices=[\"국어\", \"수학\", \"영어\", \"탐구\"], value=\"국어\", label=\"과목 선택\")\n",
        "slider_input = gr.Slider(minimum=0, maximum=1000, step=10, value=0, label=\"지난 달 푼 문제 수\")\n",
        "text_output = gr.Textbox(label=\"예측 결과\", lines=6)\n",
        "plot_output = gr.Plot(label=\"등급별 권장 문제 수 그래프\")\n",
        "\n",
        "demo = gr.Interface(\n",
        "    fn=predict,\n",
        "    inputs=[subject_input, slider_input],\n",
        "    outputs=[text_output, plot_output],\n",
        "    title=\"🎯 수능 등급 예측기\",\n",
        "    description=\"과목과 문제 수를 입력하면 예측 등급과 조언, 차트를 제공합니다.\"\n",
        ")\n",
        "\n",
        "demo.launch()\n"
      ]
    }
  ]
}